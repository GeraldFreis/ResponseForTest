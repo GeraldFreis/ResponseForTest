{
 "cells": [
  {
   "cell_type": "markdown",
   "metadata": {},
   "source": [
    "# Answer to Question 2\n",
    "## We will find the direction of the house using the direction to the closest road, and which direction that road is facing\n",
    "We clearly make an assumption here that houses sit perpendicularly to the closest road "
   ]
  },
  {
   "cell_type": "markdown",
   "metadata": {},
   "source": [
    "### First imports"
   ]
  },
  {
   "cell_type": "code",
   "execution_count": 77,
   "metadata": {},
   "outputs": [],
   "source": [
    "import requests, pandas as pd, math, time\n",
    "from shapely.geometry import LineString, Point, shape\n",
    "from geopy.distance import geodesic\n",
    "import math\n",
    "import json\n"
   ]
  },
  {
   "cell_type": "markdown",
   "metadata": {},
   "source": [
    "### Using microburbs reporting tool to get house addresses and their co-ordinates"
   ]
  },
  {
   "cell_type": "code",
   "execution_count": 78,
   "metadata": {},
   "outputs": [
    {
     "name": "stdout",
     "output_type": "stream",
     "text": [
      "{'results': [{'address': {'sa1': '11101120615', 'sal': 'Belmont North', 'state': 'NSW', 'street': '25 Seacroft Close'}, 'area_level': 'address', 'area_name': '25 Seacroft Close, Belmont North, NSW', 'attributes': {'bathrooms': 2.0, 'bedrooms': 4.0, 'building_size': 'None', 'description': \"Positioned on an expansive block with lush bushland to the rear, this incredible property creates a private sanctuary accentuating effortless family living, complemented by multiple living spaces and fabulous resort-style entertaining.\\n\\nFramed by verdant views and flooded with natural light, open-plan living acts an enticing hub, showcasing richly toned timber floors and polished design. Offering distinct zones for living and dining, the space is centred by a gorgeous kitchen, where keen home cooks will appreciate gas cooking and quality appliances. With three bedrooms and a tastefully appointed bathroom set off to the side, the fourth bedroom and bathroom is positioned downstairs, alongside a handy second lounge room. Sure to be a standout for entertainers, the rear alfresco is an absolute delight, featuring a built-in pizza oven and a lush sweeping outlook. For the kids, the massive backyard is perfect for running around on, and could accommodate a pool, should you feel like adding on (STCA).\\n\\nSituated at the end of a cul-de-sac in a lovely, family-friendly neighbourhood, the setting is quiet yet convenient, thanks to its proximity to the Pacific Highway. The run into Newcastle takes about 20 minutes, while major shopping can be found nearby in Bennetts Green, Charlestown Square and Belmont. Close to lake and beach, it's also great for getting outdoors, with heaps of bushland to explore as well.\\n\\n- Gas kitchen with glossy white cabinetry, stone surfaces, modern appliances, breakfast bar\\n- Three bedrooms on upper level, each with carpet and built-in robes\\n- Spotless bathroom with shower over corner bath\\n- Further family living, laundry and fourth bedroom open to alfresco\\n- Workshop and under-house storage, garden shed in yard\\n- Split-system AC, double enclosed carport\\n- Moments to schools, Jewellstown Plaza and Tavern\\n\\n* This information, including but not limited to photographs (which may show boundaries), copywriting, floorplans, and site plans, has been prepared solely for the purpose of marketing this property. While all care has been taken to ensure accuracy, we do not accept any responsibility for errors, omissions, or inaccuracies. We strongly recommend that all interested parties make their own enquiries and seek independent advice, including speaking with their conveyancer regarding boundaries and, where appropriate, obtaining a surveyor's report, to verify the information provided.\", 'garage_spaces': 2.0, 'land_size': '973 m²'}, 'coordinates': {'latitude': -33.01183148, 'longitude': 151.67286749}, 'gnaf_pid': 'GANSW704079896', 'listing_date': '2025-10-07', 'price': 1250000.0, 'property_type': 'House'}, {'address': {'sa1': '11101120615', 'sal': 'Belmont North', 'state': 'NSW', 'street': '67 Old Belmont Road'}, 'area_level': 'address', 'area_name': '67 Old Belmont Road, Belmont North, NSW', 'attributes': {'bathrooms': 1.0, 'bedrooms': 3.0, 'building_size': 'None', 'description': \"Full of character and warmth, this classic weatherboard cottage is the perfect opportunity for first home buyers or investors. \\nSet in a sought-after Belmont North location, it offers generous living spaces, plenty of potential, and a lifestyle of comfort and convenience.\\n\\nKey Features:\\n Three well-sized bedrooms, all with built in wardrobes\\n Modern kitchen with excellent storage and functionality\\n Spacious dining area\\n Comfortable living area\\n Large rear sunroom\\n Neat bathroom with separate WC for convenience\\n Large laundry with bonus storage room \\n Reverse cycle air conditioning\\n Double car garage with extra off-street parking\\n Situated on a 556.4m block with reserve directly behind\\n \\nLocation & Lifestyle:\\n 0.5km to Belmont North Public School\\n 1.5km to Marks Oval\\n 2.0km to Jewells Plaza\\n 3.1km to Belmont's central shopping precinct\", 'garage_spaces': 2.0, 'land_size': '556 m²'}, 'coordinates': {'latitude': -33.01649474, 'longitude': 151.67157968}, 'gnaf_pid': 'GANSW704073819', 'listing_date': '2025-10-08', 'price': 890000.0, 'property_type': 'House'}, {'address': {'sa1': '11101120624', 'sal': 'Belmont North', 'state': 'NSW', 'street': '17 Dulungra Avenue'}, 'area_level': 'address', 'area_name': '17 Dulungra Avenue, Belmont North, NSW', 'attributes': {'bathrooms': 3.0, 'bedrooms': 5.0, 'building_size': 'None', 'description': \"Expressions of Interest closes Tuesday 28th October\\nThis beautifully presented five-bedroom, three-bathroom home combines generous proportions, modern finishes, and a flexible design, creating the perfect haven for growing families. With multiple living zones, a well-planned floor layout, and both indoor and outdoor spaces for relaxation and entertaining, it offers the ideal balance of lifestyle and convenience.\\nAt the heart of the home is the contemporary kitchen, complete with stone benchtops, sleek appliances, a walk-in pantry, and abundant preparation space. Overlooking the open-plan dining and living areas, it creates a natural hub for family gatherings. The adjoining undercover entertaining area and fully fenced backyard can be viewed directly from the kitchen-perfect for hosting friends or keeping an eye on children at play.\\nThe five bedrooms are all generously sized, including a luxurious master suite with two walk-in wardrobes and a private ensuite. Two additional bathrooms service the home, ensuring family practicality. Multiple living zones offer flexibility for relaxation, work, or play, while an elevated front balcony captures a leafy outlook, providing yet another retreat.\\nEveryday comfort is assured with air conditioning, ceiling fans, and thoughtful design throughout, while ample storage is cleverly integrated across the home. A secure double garage with internal access and a large under-house storage area provide plenty of room for vehicles and equipment, with the bonus of an extra parking space at the top of the driveway. Energy efficiency and peace of mind are built in, thanks to solar panels, a security alarm system, water tank, and block-out window awnings.\\nPerfectly located, you'll be approx. 500m to Floraville Public School and 3.3km to Belmont High School, with Jewells Plaza just 2.2km away and major retail options at Bennetts Green Homemakers Centre (approx. 3.5km) and Belmont Central (approx. 4.3km). Weekends are made for lifestyle, with Belmont Baths only approx. 4km away, Redhead Beach approx. 6.2km, and Warners Bay Foreshore approx. 7km.\\nA true family sanctuary offering space, style, and a prime location-this is a home that will adapt with your family and deliver the lifestyle you've been searching for.\\nThe information contained herein has been provided by people we believe to be reliable, however all interested parties must rely on their own enquiries.\", 'garage_spaces': 2.0, 'land_size': '605 m²'}, 'coordinates': {'latitude': -33.01204354, 'longitude': 151.66851581}, 'gnaf_pid': 'GANSW715835616', 'listing_date': '2025-10-08', 'price': 1350000.0, 'property_type': 'House'}, {'address': {'sa1': '11101120604', 'sal': 'Belmont North', 'state': 'NSW', 'street': '5 Pinnaroo Close'}, 'area_level': 'address', 'area_name': '5 Pinnaroo Close, Belmont North, NSW', 'attributes': {'bathrooms': 3.0, 'bedrooms': 4.0, 'building_size': 'nan', 'description': 'This large family home offers many applications - positioned on the high side of the road enables you to take advantage of the sea breezes and lovely view to Lake Macquarie.\\n\\n\\nFreshly painted the home is ready for you to move in and enjoy. Light-filled interiors are complemented by multiple indoor and outdoor living areas, perfect for family life and entertaining. Thoughtfully designed for family living, the homes layout flows effortlessly across levels and provides the new owner with opportunities to accommodate generations.\\n\\nIncluded in this lovely home:\\n\\tFormal entry and living space with stunning Cathedral Ceiling -\\nflowing into an open plan living room and dining room all leading out to front deck with views to the lake\\n\\tKitchen with Caesarstone benchtops, double sink, Miele dishwasher and Electrolux oven and microwave\\n\\tFormal lounge\\n\\tMain bedroom has walk in robe, renovated ensuite and fan\\n\\tBedrooms 2 and 3 have built in robes and fans\\n\\tWalk in linen press\\n\\tMain bathroom features a corner spa and large shower\\n\\tAlfresco area and grassed back yard\\n\\nDownstairs\\n\\t4th bedroom with built in robes\\n\\tFamily room with split system air conditioning and a 3rd bathroom\\n\\tOversized double garage with storage room\\n\\t9m x 5m carport\\n\\tSolar electricity\\n\\nPositioned for both convenience and lifestyle, this home is just moments from local schools, shopping, the lake, and some of the regions best beaches and walking trails.  1.2 km to Jewells Primary School  2.1 km to Belmont Christian College  3.5 km to Belmont High School  Close to Jewells Shopping Centre, Redhead Beach, Lake Macquarie, the Fernleigh Track and major link roads to Newcastle and Sydney.\\n\\n\\nDont miss your chance to secure a family home in a tightly held enclave with captivating views and room to grow.\\n\\nDisclaimer: We have obtained all information provided here from sources we believe to be reliable; however, we cannot guarantee its accuracy. Prospective purchasers are advised to carry out their own investigations and satisfy themselves of all aspects of such information including and without limitation, any income, rentals, dimensions, areas, zoning, inclusions and exclusions.', 'garage_spaces': 3.0, 'land_size': '768.0'}, 'coordinates': {'latitude': -33.02006063, 'longitude': 151.6800542}, 'gnaf_pid': 'GANSW704079805', 'listing_date': '2025-10-13', 'price': 1200000.0, 'property_type': 'House'}, {'address': {'sa1': '11101120610', 'sal': 'Belmont North', 'state': 'NSW', 'street': '30 John Fisher Road'}, 'area_level': 'address', 'area_name': '30 John Fisher Road, Belmont North, NSW', 'attributes': {'bathrooms': 1.0, 'bedrooms': 3.0, 'building_size': 'None', 'description': 'Welcome to 30 John Fisher Drive, Belmont North - a beautifully presented family home combining comfort, character, and convenience. Set on a 556.4m block in a quiet, well-regarded street with a leafy outlook, this residence offers a warm and inviting atmosphere with ample space for the whole family.\\nKey Features:\\n Three generous bedrooms, all with built-in robes\\n Main bathroom plus 2nd WC off the spacious laundry\\n Two large living areas, perfect for family relaxation and entertaining\\n Stunning high ceilings with exposed beams in the rear living area\\n Abundance of natural light throughout the home\\n Ceiling fan in the main bedroom\\n Split-system air conditioner in the second living space\\n Spacious kitchen with ample storage and bench space\\n Tandem double garage with lots of under-house storage\\n Additional shed at the rear providing extra storage options\\n Well-sized, low-maintenance yard ideal for families or hobby gardeners\\nLocation & Lifestyle:\\n Directly opposite a peaceful, scenic outlook\\n 0.5km to Belmont Christian College\\n 2.5km to Belmont Central Shopping Centre\\n 2.5km to Belmont High School\\n 4.5km to Redhead Beach\\n Easy access to local parks, transport, and recreational facilities\\n', 'garage_spaces': 3.0, 'land_size': '556 m²'}, 'coordinates': {'latitude': -33.02311367, 'longitude': 151.66921469}, 'gnaf_pid': 'GANSW704076321', 'listing_date': '2025-10-20', 'price': 900000.0, 'property_type': 'House'}, {'address': {'sa1': '11101120609', 'sal': 'Belmont North', 'state': 'NSW', 'street': 'Unit 2, 1 Vincent Street'}, 'area_level': 'address', 'area_name': 'Unit 2, 1 Vincent Street, Belmont North, NSW', 'attributes': {'bathrooms': 1.0, 'bedrooms': 2.0, 'building_size': 'None', 'description': 'Discover the epitome of comfortable retirement living in this completely renovated two-bedroom unit at the prestigious Calvary Nazareth Retirement Village. Unit 2 stands apart with its comprehensive full refurbishment, featuring a stunning brand new kitchen and luxurious brand new bathroom - ready for you to simply move in and enjoy.\\nWhat sets Unit 2 apart:\\nComplete full refurbishment throughout\\nBrand new modern kitchen with quality fittings\\nPristine new bathroom with contemporary finishes\\nPremium presentation ready for immediate occupancy\\nKey Features:\\n2 generous bedrooms\\nSpacious living area perfect for entertaining\\nSingle carport for secure parking\\nVisitor parking available for guests\\nWelcoming community atmosphere\\nPrime Location Benefits:\\nJust 8 minutes to Bennetts Green Homemaker Centre\\nOnly 6 minutes to Belmont Shopping Village\\nEstablished retirement village with excellent amenities\\nThis immaculately presented unit offers the perfect blend of modern comfort and village lifestyle. With everything brand new and move-in ready, Unit 2 represents exceptional value for discerning buyers seeking quality without compromise.\\nYou may have to pay a departure fee to exit this village.', 'garage_spaces': 1.0, 'land_size': 'None'}, 'coordinates': {'latitude': -33.02289234, 'longitude': 151.66747673}, 'gnaf_pid': 'GANSW718650493', 'listing_date': '2025-04-29', 'price': 599000.0, 'property_type': 'Unit'}, {'address': {'sa1': '11101120609', 'sal': 'Belmont North', 'state': 'NSW', 'street': '46 Patrick Street'}, 'area_level': 'address', 'area_name': '46 Patrick Street, Belmont North, NSW', 'attributes': {'bathrooms': 1.0, 'bedrooms': 4.0, 'building_size': 'nan', 'description': 'Positioned in an enviable location between the golden sands of Redhead and Blacksmiths beaches and just 1.5 kilometres from the sparkling waters of Lake Macquarie, this four-bedroom home offers the ultimate blend of comfort, practicality and lifestyle. Whether youre searching for a family haven, a place to entertain, or a property with exceptional storage, this home delivers it all.\\nInside, youll find four generously sized bedrooms, each fitted with built-in robes, creating plenty of space for the whole family. The home is designed with versatility in mind, featuring two separate living rooms that provide flexibility for both relaxation and entertaining. Split system air conditioning ensures comfort across the seasons, while the functional layout includes a main bathroom and the added convenience of a second toilet located off the laundry.\\nCar lovers, tradespeople, or those simply in need of extra space will be impressed by the detached oversized double garage complete with a workshop, offering the perfect set up for hobbies, projects or additional storage. In addition, a double tandem carport provides even more secure off street parking making it ideal for boats, caravans or extra vehicles.\\nThe true highlight of this property is its unbeatable position. Nestled between two of the regions most iconic beaches and within minutes of the lake, youll enjoy endless opportunities for swimming, fishing, boating and coastal walks right on your doorstep. This is a home that not only provides all the essentials for modern living but also invites you to embrace the laid back coastal lifestyle that makes this area so highly sought after.\\n\\n- 4 bedrooms with built in robes\\n- 2 living rooms\\n- Detached double garage\\n- 1.5km to Lake Macquarie\\n- 6km to Blacksmiths Beach\\n- 6km to Redhead Beach\\n\\nCouncil Rates: $560.00 PQ approx.\\nWater Rates: $858.00 PA approx. + usage\\n\\n\\n\\nDisclaimer: We have obtained all information provided here from sources we believe to be reliable; however, we cannot guarantee its accuracy.\\nProspective purchasers are advised to carry out their own investigations and satisfy themselves of all aspects of such information including and without limitation, any income, rentals, dimensions, areas, zoning, inclusions and exclusions.', 'garage_spaces': 4.0, 'land_size': '466.0'}, 'coordinates': {'latitude': -33.02379398, 'longitude': 151.66499999}, 'gnaf_pid': 'GANSW706667618', 'listing_date': '2025-09-15', 'price': 920000.0, 'property_type': 'House'}, {'address': {'sa1': '11101120634', 'sal': 'Belmont North', 'state': 'NSW', 'street': '380-384 Pacific Highway'}, 'area_level': 'address', 'area_name': '380-384 Pacific Highway, Belmont North, NSW', 'attributes': {'bathrooms': nan, 'bedrooms': nan, 'building_size': '1377.0', 'description': 'A rare strategic offering providing a prominent sought after northbound corner site location poised to capitalise on burgeoning local development.\\n\\n 1,377m* Site area\\n\\n Zone MU1: Mixed use\\n\\n Substantial 47.5m* Pacific Highway frontage\\n\\n Fenced hardstand yard\\n\\n Site office\\n\\n\\nFor Sale: Expressions of Interest campaign closing 4PM Monday 27 October 2025.\\nAll offers must be received by the Agent in writing by the deadline to be considered. \\n\\n\\n\\n\\n*Approximately', 'garage_spaces': nan, 'land_size': '1377.0'}, 'coordinates': {'latitude': -33.02305765, 'longitude': 151.66381854}, 'gnaf_pid': 'GANSW716483968', 'listing_date': '2025-09-23', 'price': 1800000.0, 'property_type': 'Unit'}]}\n"
     ]
    }
   ],
   "source": [
    "# using provided microburbs api call to get information about properties\n",
    "url = \"https://www.microburbs.com.au/report_generator/api/suburb/properties\"\n",
    "params = {\n",
    "    \"suburb\": \"Belmont North\"\n",
    "}\n",
    "headers = {\n",
    "    \"Authorization\": \"Bearer test\",\n",
    "    \"Content-Type\": \"application/json\"\n",
    "}\n",
    "\n",
    "response = requests.get(url, params=params, headers=headers)\n",
    "data = response.json()\n",
    "print(data)"
   ]
  },
  {
   "cell_type": "markdown",
   "metadata": {},
   "source": [
    "### Data cleaning\n",
    "Here we want to reduce the information to just maintain address, and state and co-ordinates as that is all we need"
   ]
  },
  {
   "cell_type": "code",
   "execution_count": 79,
   "metadata": {},
   "outputs": [
    {
     "data": {
      "text/html": [
       "<div>\n",
       "<style scoped>\n",
       "    .dataframe tbody tr th:only-of-type {\n",
       "        vertical-align: middle;\n",
       "    }\n",
       "\n",
       "    .dataframe tbody tr th {\n",
       "        vertical-align: top;\n",
       "    }\n",
       "\n",
       "    .dataframe thead th {\n",
       "        text-align: right;\n",
       "    }\n",
       "</style>\n",
       "<table border=\"1\" class=\"dataframe\">\n",
       "  <thead>\n",
       "    <tr style=\"text-align: right;\">\n",
       "      <th></th>\n",
       "      <th>address</th>\n",
       "      <th>state</th>\n",
       "      <th>coordinates</th>\n",
       "    </tr>\n",
       "  </thead>\n",
       "  <tbody>\n",
       "    <tr>\n",
       "      <th>0</th>\n",
       "      <td>25 Seacroft Close, Belmont North, NSW</td>\n",
       "      <td>NSW</td>\n",
       "      <td>(-33.01183148, 151.67286749)</td>\n",
       "    </tr>\n",
       "    <tr>\n",
       "      <th>1</th>\n",
       "      <td>67 Old Belmont Road, Belmont North, NSW</td>\n",
       "      <td>NSW</td>\n",
       "      <td>(-33.01649474, 151.67157968)</td>\n",
       "    </tr>\n",
       "    <tr>\n",
       "      <th>2</th>\n",
       "      <td>17 Dulungra Avenue, Belmont North, NSW</td>\n",
       "      <td>NSW</td>\n",
       "      <td>(-33.01204354, 151.66851581)</td>\n",
       "    </tr>\n",
       "    <tr>\n",
       "      <th>3</th>\n",
       "      <td>5 Pinnaroo Close, Belmont North, NSW</td>\n",
       "      <td>NSW</td>\n",
       "      <td>(-33.02006063, 151.6800542)</td>\n",
       "    </tr>\n",
       "    <tr>\n",
       "      <th>4</th>\n",
       "      <td>30 John Fisher Road, Belmont North, NSW</td>\n",
       "      <td>NSW</td>\n",
       "      <td>(-33.02311367, 151.66921469)</td>\n",
       "    </tr>\n",
       "    <tr>\n",
       "      <th>5</th>\n",
       "      <td>Unit 2, 1 Vincent Street, Belmont North, NSW</td>\n",
       "      <td>NSW</td>\n",
       "      <td>(-33.02289234, 151.66747673)</td>\n",
       "    </tr>\n",
       "    <tr>\n",
       "      <th>6</th>\n",
       "      <td>46 Patrick Street, Belmont North, NSW</td>\n",
       "      <td>NSW</td>\n",
       "      <td>(-33.02379398, 151.66499999)</td>\n",
       "    </tr>\n",
       "    <tr>\n",
       "      <th>7</th>\n",
       "      <td>380-384 Pacific Highway, Belmont North, NSW</td>\n",
       "      <td>NSW</td>\n",
       "      <td>(-33.02305765, 151.66381854)</td>\n",
       "    </tr>\n",
       "  </tbody>\n",
       "</table>\n",
       "</div>"
      ],
      "text/plain": [
       "                                        address state  \\\n",
       "0         25 Seacroft Close, Belmont North, NSW   NSW   \n",
       "1       67 Old Belmont Road, Belmont North, NSW   NSW   \n",
       "2        17 Dulungra Avenue, Belmont North, NSW   NSW   \n",
       "3          5 Pinnaroo Close, Belmont North, NSW   NSW   \n",
       "4       30 John Fisher Road, Belmont North, NSW   NSW   \n",
       "5  Unit 2, 1 Vincent Street, Belmont North, NSW   NSW   \n",
       "6         46 Patrick Street, Belmont North, NSW   NSW   \n",
       "7   380-384 Pacific Highway, Belmont North, NSW   NSW   \n",
       "\n",
       "                    coordinates  \n",
       "0  (-33.01183148, 151.67286749)  \n",
       "1  (-33.01649474, 151.67157968)  \n",
       "2  (-33.01204354, 151.66851581)  \n",
       "3   (-33.02006063, 151.6800542)  \n",
       "4  (-33.02311367, 151.66921469)  \n",
       "5  (-33.02289234, 151.66747673)  \n",
       "6  (-33.02379398, 151.66499999)  \n",
       "7  (-33.02305765, 151.66381854)  "
      ]
     },
     "execution_count": 79,
     "metadata": {},
     "output_type": "execute_result"
    }
   ],
   "source": [
    "records = [] # using a simple list\n",
    "for item in data[\"results\"]: # iterate over all items\n",
    "\n",
    "    addr = item[\"address\"]\n",
    "    coords = item[\"coordinates\"]\n",
    "    full_address = f\"{addr['street']}, {addr['sal']}, {addr['state']}\"\n",
    "\n",
    "    records.append({\n",
    "        \"address\": full_address,\n",
    "        \"state\": addr[\"state\"],\n",
    "        \"coordinates\": f\"({coords['latitude']}, {coords['longitude']})\"\n",
    "    })\n",
    "\n",
    "\n",
    "# Create DataFrame\n",
    "df = pd.DataFrame(records)\n",
    "\n",
    "# Display\n",
    "df.head(10)"
   ]
  },
  {
   "cell_type": "markdown",
   "metadata": {},
   "source": [
    "### We need to parse co-ordinates and then apply a distance metric to match the distance from closest point on a road to the house"
   ]
  },
  {
   "cell_type": "code",
   "execution_count": 80,
   "metadata": {},
   "outputs": [],
   "source": [
    "# --- Coordinate parsing ---\n",
    "def parse_coords(coord_str):\n",
    "    \"\"\"Convert string coordinate to floats (lat, lon).\"\"\"\n",
    "    if isinstance(coord_str, tuple) or isinstance(coord_str, list):\n",
    "        return float(coord_str[0]), float(coord_str[1])\n",
    "    nums = re.findall(r\"-?\\d+\\.\\d+\", coord_str)\n",
    "    if len(nums) == 2:\n",
    "        return float(nums[0]), float(nums[1])\n",
    "    else:\n",
    "        raise ValueError(f\"Invalid coordinate format: {coord_str}\")\n",
    "\n",
    "# --- Haversine distance ---\n",
    "def haversine(lat1, lon1, lat2, lon2):\n",
    "    R = 6371e3  # Earth radius in meters\n",
    "    phi1, phi2 = math.radians(lat1), math.radians(lat2)\n",
    "    dphi = math.radians(lat2 - lat1)\n",
    "    dlambda = math.radians(lon2 - lon1)\n",
    "    a = math.sin(dphi / 2)**2 + math.cos(phi1) * math.cos(phi2) * math.sin(dlambda / 2)**2\n",
    "    return R * (2 * math.atan2(math.sqrt(a), math.sqrt(1 - a)))\n",
    "\n",
    "\n",
    "\n",
    "\n"
   ]
  },
  {
   "cell_type": "markdown",
   "metadata": {},
   "source": [
    "### Calculating the bearing from the closest point on road to house"
   ]
  },
  {
   "cell_type": "code",
   "execution_count": 81,
   "metadata": {},
   "outputs": [],
   "source": [
    "def calculate_bearing(lat1, lon1, lat2, lon2):\n",
    "    lat1, lon1, lat2, lon2 = map(math.radians, [lat1, lon1, lat2, lon2])\n",
    "    dlon = lon2 - lon1\n",
    "    x = math.sin(dlon) * math.cos(lat2)\n",
    "    y = math.cos(lat1) * math.sin(lat2) - math.sin(lat1) * math.cos(lat2) * math.cos(dlon)\n",
    "    bearing = math.degrees(math.atan2(x, y))\n",
    "    return (bearing + 360) % 360"
   ]
  },
  {
   "cell_type": "markdown",
   "metadata": {},
   "source": [
    "### Finding the closest road & closest point on the road"
   ]
  },
  {
   "cell_type": "code",
   "execution_count": 82,
   "metadata": {},
   "outputs": [],
   "source": [
    "\n",
    "# --- Query NSW Roads API ---\n",
    "def find_closest_road(lat, lon, radius=50):\n",
    "    url = \"https://portal.spatial.nsw.gov.au/server/rest/services/NSW_Transport_Theme/MapServer/5/query\"\n",
    "    params = {\n",
    "        \"geometry\": f\"{lon},{lat}\",\n",
    "        \"geometryType\": \"esriGeometryPoint\",\n",
    "        \"inSR\": 4326,\n",
    "        \"spatialRel\": \"esriSpatialRelIntersects\",\n",
    "        \"distance\": radius,\n",
    "        \"units\": \"esriSRUnit_Meter\",\n",
    "        \"outFields\": \"roadnamebase,roadnametype,roadnamesuffix\",\n",
    "        \"returnGeometry\": \"true\",\n",
    "        \"f\": \"json\"\n",
    "    }\n",
    "    resp = requests.get(url, params=params)\n",
    "    data = resp.json()\n",
    "    if \"features\" not in data or not data[\"features\"]:\n",
    "        return None, None, None, None\n",
    "\n",
    "    feature = data[\"features\"][0]\n",
    "    attrs = feature[\"attributes\"]\n",
    "    road_name = \" \".join(filter(None, [attrs.get(\"roadnamebase\"), attrs.get(\"roadnametype\"), attrs.get(\"roadnamesuffix\")])).strip()\n",
    "\n",
    "    # Get first vertex of road polyline\n",
    "    geom = feature[\"geometry\"][\"paths\"][0][0]\n",
    "    road_lon, road_lat = geom[0], geom[1]\n",
    "\n",
    "    dist = haversine(lat, lon, road_lat, road_lon)\n",
    "    bearing = calculate_bearing(lat, lon, road_lat, road_lon)\n",
    "\n",
    "    return road_name, road_lat, road_lon, dist, bearing"
   ]
  },
  {
   "cell_type": "markdown",
   "metadata": {},
   "source": [
    "### Adding a direction column to the data frame"
   ]
  },
  {
   "cell_type": "code",
   "execution_count": 83,
   "metadata": {},
   "outputs": [
    {
     "name": "stdout",
     "output_type": "stream",
     "text": [
      "                                        address state  \\\n",
      "0         25 Seacroft Close, Belmont North, NSW   NSW   \n",
      "1       67 Old Belmont Road, Belmont North, NSW   NSW   \n",
      "2        17 Dulungra Avenue, Belmont North, NSW   NSW   \n",
      "3          5 Pinnaroo Close, Belmont North, NSW   NSW   \n",
      "4       30 John Fisher Road, Belmont North, NSW   NSW   \n",
      "5  Unit 2, 1 Vincent Street, Belmont North, NSW   NSW   \n",
      "6         46 Patrick Street, Belmont North, NSW   NSW   \n",
      "7   380-384 Pacific Highway, Belmont North, NSW   NSW   \n",
      "\n",
      "                    coordinates   direction  \n",
      "0  (-33.01183148, 151.67286749)  358.627204  \n",
      "1  (-33.01649474, 151.67157968)   51.049202  \n",
      "2  (-33.01204354, 151.66851581)  168.147571  \n",
      "3   (-33.02006063, 151.6800542)  251.259918  \n",
      "4  (-33.02311367, 151.66921469)  195.429966  \n",
      "5  (-33.02289234, 151.66747673)   16.762866  \n",
      "6  (-33.02379398, 151.66499999)   96.894083  \n",
      "7  (-33.02305765, 151.66381854)   67.719740  \n"
     ]
    }
   ],
   "source": [
    "def add_direction_column(df):\n",
    "    results = []\n",
    "    for _, row in df.iterrows():\n",
    "        lat, lon = parse_coords(row[\"coordinates\"])\n",
    "        _, _, _, _, bearing = find_closest_road(lat, lon)\n",
    "        results.append(bearing)\n",
    "    df[\"direction\"] = results\n",
    "    return df\n",
    "\n",
    "\n",
    "df = add_direction_column(df)\n",
    "\n",
    "print(df)"
   ]
  },
  {
   "cell_type": "code",
   "execution_count": 84,
   "metadata": {},
   "outputs": [
    {
     "name": "stdout",
     "output_type": "stream",
     "text": [
      "CSV saved to address_direction.csv\n",
      "                                        address   direction\n",
      "0         25 Seacroft Close, Belmont North, NSW  358.627204\n",
      "1       67 Old Belmont Road, Belmont North, NSW   51.049202\n",
      "2        17 Dulungra Avenue, Belmont North, NSW  168.147571\n",
      "3          5 Pinnaroo Close, Belmont North, NSW  251.259918\n",
      "4       30 John Fisher Road, Belmont North, NSW  195.429966\n",
      "5  Unit 2, 1 Vincent Street, Belmont North, NSW   16.762866\n",
      "6         46 Patrick Street, Belmont North, NSW   96.894083\n",
      "7   380-384 Pacific Highway, Belmont North, NSW   67.719740\n"
     ]
    }
   ],
   "source": [
    "df_output = df[['address', 'direction']].copy()\n",
    "\n",
    "# Save to CSV\n",
    "output_file = \"address_direction.csv\"\n",
    "df_output.to_csv(output_file, index=False)\n",
    "\n",
    "print(f\"CSV saved to {output_file}\")\n",
    "print(df_output)"
   ]
  }
 ],
 "metadata": {
  "kernelspec": {
   "display_name": "mainEnv",
   "language": "python",
   "name": "python3"
  },
  "language_info": {
   "codemirror_mode": {
    "name": "ipython",
    "version": 3
   },
   "file_extension": ".py",
   "mimetype": "text/x-python",
   "name": "python",
   "nbconvert_exporter": "python",
   "pygments_lexer": "ipython3",
   "version": "3.8.18"
  }
 },
 "nbformat": 4,
 "nbformat_minor": 2
}
